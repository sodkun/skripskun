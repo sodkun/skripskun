{
  "nbformat": 4,
  "nbformat_minor": 0,
  "metadata": {
    "colab": {
      "provenance": [],
      "authorship_tag": "ABX9TyOyBSU/8mtKFZreIu9gz7pP",
      "include_colab_link": true
    },
    "kernelspec": {
      "name": "python3",
      "display_name": "Python 3"
    },
    "language_info": {
      "name": "python"
    }
  },
  "cells": [
    {
      "cell_type": "markdown",
      "metadata": {
        "id": "view-in-github",
        "colab_type": "text"
      },
      "source": [
        "<a href=\"https://colab.research.google.com/github/sodkun/skriskun/blob/master/skripskun.ipynb\" target=\"_parent\"><img src=\"https://colab.research.google.com/assets/colab-badge.svg\" alt=\"Open In Colab\"/></a>"
      ]
    },
    {
      "cell_type": "code",
      "execution_count": null,
      "metadata": {
        "colab": {
          "base_uri": "https://localhost:8080/"
        },
        "id": "ETXZLUQ40WaM",
        "outputId": "3faa7eb9-7581-416a-f968-dfd5bad4cd1d"
      },
      "outputs": [
        {
          "output_type": "stream",
          "name": "stdout",
          "text": [
            "skripsi\n"
          ]
        }
      ],
      "source": [
        "print(\"skripsi\")"
      ]
    },
    {
      "cell_type": "code",
      "source": [
        "print(\"skripsi halo\")"
      ],
      "metadata": {
        "colab": {
          "base_uri": "https://localhost:8080/"
        },
        "id": "fV2kVV6e2wtk",
        "outputId": "b6e58858-7874-4c0c-8895-89872e5bb2ba"
      },
      "execution_count": 2,
      "outputs": [
        {
          "output_type": "stream",
          "name": "stdout",
          "text": [
            "skripsi halo\n"
          ]
        }
      ]
    }
  ]
}